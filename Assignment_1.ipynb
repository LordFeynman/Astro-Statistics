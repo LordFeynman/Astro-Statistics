{
 "cells": [
  {
   "cell_type": "markdown",
   "id": "1b1a1b27-603a-4d44-b81a-d26450ea979e",
   "metadata": {},
   "source": [
    "# Assignment 1"
   ]
  },
  {
   "cell_type": "markdown",
   "id": "3bbf4e9c-e51a-4004-b2fd-81cfd02687f2",
   "metadata": {},
   "source": [
    "## Host knows where the prize is"
   ]
  },
  {
   "cell_type": "code",
   "execution_count": 1,
   "id": "2012f0d1-deeb-4c51-acb9-bfdfc213afcd",
   "metadata": {},
   "outputs": [],
   "source": [
    "import random\n",
    "\n",
    "def standard_monty(doors):\n",
    "    return random.choice([d for d in doors if d != 0])"
   ]
  },
  {
   "cell_type": "markdown",
   "id": "68eec9db-4802-483d-aba1-8e49359171dc",
   "metadata": {},
   "source": [
    "The function switch_contestant() defines a contestant that is willing to switch doors. We begin by defining the three doors and then we choose one at random, storing the decision in the variable init_door. We then proceed to remove this door from the game and finally we reveal a door. After doing that, the function takes place and we change our initial choice."
   ]
  },
  {
   "cell_type": "code",
   "execution_count": 2,
   "id": "e48895c0-c877-44d2-b343-cf08bd5b7112",
   "metadata": {
    "tags": []
   },
   "outputs": [],
   "source": [
    "def switch_contestant():\n",
    "    doors = [0,1,2]                             \n",
    "    init_choice = random.choice(doors)          \n",
    "    doors.remove(init_choice)                   \n",
    "    reveal_door = standard_monty(doors)         \n",
    "    if reveal_door == 0:                             \n",
    "        return switch_contestant()\n",
    "    return init_choice != 0 "
   ]
  },
  {
   "cell_type": "markdown",
   "id": "c4a204e4-d255-4069-ad8b-973fcec9f488",
   "metadata": {},
   "source": [
    "The function stay_contestant() defines a contestant that is not willing to switch doors. Once more, we begin by defining the three doors and then we choose one at random, storing the decision in the variable init_door. We then proceed to remove this door from the game and finally we reveal a door. After doing that, the function takes place and we do not change our initial choice, sticking with our first pick."
   ]
  },
  {
   "cell_type": "code",
   "execution_count": 3,
   "id": "3b4379b2-d89c-432a-b8f0-9ce17944bfd0",
   "metadata": {},
   "outputs": [],
   "source": [
    "def stay_contestant():\n",
    "    doors = [0,1,2]                             \n",
    "    init_choice = random.choice(doors)          \n",
    "    doors.remove(init_choice)                   \n",
    "    reveal_door = standard_monty(doors)         \n",
    "    if reveal_door == 0:                             \n",
    "        return stay_contestant()\n",
    "    return init_choice == 0 "
   ]
  },
  {
   "cell_type": "markdown",
   "id": "63ce3fb7-b2a3-4c14-986e-154d89c29961",
   "metadata": {},
   "source": [
    "We then initiate a count for the number of cases in which we win by switching doors and those in which we win by not switching it. We decide to run the game 10000 times at random, adding to the count the different winning scenarios."
   ]
  },
  {
   "cell_type": "code",
   "execution_count": 4,
   "id": "3f816e3a-87a9-4950-8788-2b44e5f98d8a",
   "metadata": {},
   "outputs": [],
   "source": [
    "switch_win_s = 0\n",
    "stay_win_s = 0\n",
    "n = 10000\n",
    "\n",
    "for _ in range(n):\n",
    "    if switch_contestant():\n",
    "        switch_win_s += 1\n",
    "    if stay_contestant():\n",
    "        stay_win_s += 1"
   ]
  },
  {
   "cell_type": "markdown",
   "id": "6d67f71c-122b-4487-a11f-ce4b9bd94d9a",
   "metadata": {},
   "source": [
    "Finally, we print the result of the standard Monty Hall game"
   ]
  },
  {
   "cell_type": "code",
   "execution_count": 5,
   "id": "54848d50-2ad7-4d30-828d-219469b27e26",
   "metadata": {},
   "outputs": [
    {
     "name": "stdout",
     "output_type": "stream",
     "text": [
      "STANDARD MONTY HALL - QUESTION 1\n",
      "Switching contestant: 67.74%\n",
      "Stubborn contestant: 33.35%\n"
     ]
    }
   ],
   "source": [
    "print('STANDARD MONTY HALL - QUESTION 1')\n",
    "print('Switching contestant: %.2f%%' % (float(switch_win_s) / n * 100))\n",
    "print('Stubborn contestant: %.2f%%' % (float(stay_win_s) / n * 100))"
   ]
  },
  {
   "cell_type": "markdown",
   "id": "2bf16381-9254-4ed9-889a-de460f3f9a54",
   "metadata": {},
   "source": [
    "# Host does not know where the prize is"
   ]
  },
  {
   "cell_type": "code",
   "execution_count": 6,
   "id": "6f1c632f-55ac-4a82-b916-554b21034472",
   "metadata": {},
   "outputs": [],
   "source": [
    "def modified_monty(doors):\n",
    "    return random.choice(doors)"
   ]
  },
  {
   "cell_type": "markdown",
   "id": "63cc369e-3fd2-4c0c-9e08-40e3255949fd",
   "metadata": {},
   "source": [
    "The idea here is the same as before, the only change that we make is that now the host does not know what is behind the doors, so he will have to choose it at random. That is the reason why now the variable reveal_door chooses a door at random (that is not the initial choice of the contestant). Once the door is revealed, the game proceeds as before."
   ]
  },
  {
   "cell_type": "code",
   "execution_count": 7,
   "id": "975d931f-0aad-41d8-95de-6d5c4860f574",
   "metadata": {},
   "outputs": [],
   "source": [
    "def switch_cont():\n",
    "    doors = [0,1,2]                             \n",
    "    init_choice = random.choice(doors)          \n",
    "    doors.remove(init_choice)                   \n",
    "    reveal_door = modified_monty(doors)         \n",
    "    if reveal_door == 0:                             \n",
    "        return switch_cont()\n",
    "    return init_choice != 0 "
   ]
  },
  {
   "cell_type": "code",
   "execution_count": 8,
   "id": "0f005ae7-f1a6-4f32-9730-747dd92cf432",
   "metadata": {},
   "outputs": [],
   "source": [
    "def stay_cont():\n",
    "    doors = [0,1,2]                             \n",
    "    init_choice = random.choice(doors)          \n",
    "    doors.remove(init_choice)                   \n",
    "    reveal_door = modified_monty(doors)         \n",
    "    if reveal_door == 0:                             \n",
    "        return stay_cont()\n",
    "    return init_choice == 0 "
   ]
  },
  {
   "cell_type": "code",
   "execution_count": 9,
   "id": "f357b396-3154-4ed8-91b3-cb3de4fb6dbc",
   "metadata": {},
   "outputs": [],
   "source": [
    "switch_win_m = 0\n",
    "stay_win_m = 0\n",
    "\n",
    "for _ in range(n):\n",
    "    if switch_cont():\n",
    "        switch_win_m += 1\n",
    "    if stay_cont():\n",
    "        stay_win_m += 1"
   ]
  },
  {
   "cell_type": "code",
   "execution_count": 10,
   "id": "0b188c0f-bdf1-4a3a-8256-a7e1b7d6672f",
   "metadata": {},
   "outputs": [
    {
     "name": "stdout",
     "output_type": "stream",
     "text": [
      "MODIFIED MONTY HALL - QUESTION 2\n",
      "Switching contestant: 50.96%\n",
      "Stubborn contestant: 49.58%\n"
     ]
    }
   ],
   "source": [
    "print('MODIFIED MONTY HALL - QUESTION 2')\n",
    "print('Switching contestant: %.2f%%' % (float(switch_win_m) / n * 100))\n",
    "print('Stubborn contestant: %.2f%%' % (float(stay_win_m) / n * 100))"
   ]
  }
 ],
 "metadata": {
  "kernelspec": {
   "display_name": "Python 3 (ipykernel)",
   "language": "python",
   "name": "python3"
  },
  "language_info": {
   "codemirror_mode": {
    "name": "ipython",
    "version": 3
   },
   "file_extension": ".py",
   "mimetype": "text/x-python",
   "name": "python",
   "nbconvert_exporter": "python",
   "pygments_lexer": "ipython3",
   "version": "3.9.7"
  }
 },
 "nbformat": 4,
 "nbformat_minor": 5
}
